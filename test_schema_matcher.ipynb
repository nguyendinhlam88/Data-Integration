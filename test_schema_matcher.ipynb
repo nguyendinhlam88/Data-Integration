{
 "cells": [
  {
   "cell_type": "markdown",
   "source": [
    "## FlexMatcher"
   ],
   "metadata": {
    "collapsed": false,
    "pycharm": {
     "name": "#%% md\n"
    }
   }
  },
  {
   "cell_type": "code",
   "execution_count": 1,
   "outputs": [],
   "source": [
    "import flexmatcher\n",
    "import pandas as pd"
   ],
   "metadata": {
    "collapsed": false,
    "pycharm": {
     "name": "#%%\n"
    }
   }
  },
  {
   "cell_type": "code",
   "execution_count": 2,
   "outputs": [],
   "source": [
    "vals1 = [['year', 'Movie', 'imdb_rating'],\n",
    "        ['2001', 'Lord of the Rings', '8.8'],\n",
    "        ['2010', 'Inception', '8.7'],\n",
    "        ['1999', 'The Matrix', '8.7']]\n",
    "header = vals1.pop(0)\n",
    "data1 = pd.DataFrame(vals1, columns=header)\n",
    "# creating the second dataset\n",
    "vals2 = [['title', 'produced', 'popularity'],\n",
    "        ['The Godfather', '1972', '9.2'],\n",
    "        ['Silver Linings Playbook', '2012', '7.8'],\n",
    "        ['The Big Short', '2015', '7.8']]\n",
    "header = vals2.pop(0)\n",
    "data2 = pd.DataFrame(vals2, columns=header)\n",
    "# specifying the mappings for the first and second datasets\n",
    "data1_mapping = {'year': 'movie_year',\n",
    "                 'imdb_rating': 'movie_rating',\n",
    "                 'Movie': 'movie_name'}\n",
    "data2_mapping = {'popularity': 'movie_rating',\n",
    "                 'produced': 'movie_year',\n",
    "                 'title': 'movie_name'}"
   ],
   "metadata": {
    "collapsed": false,
    "pycharm": {
     "name": "#%%\n"
    }
   }
  },
  {
   "cell_type": "code",
   "execution_count": 3,
   "outputs": [
    {
     "data": {
      "text/plain": "   year              Movie imdb_rating\n0  2001  Lord of the Rings         8.8\n1  2010          Inception         8.7\n2  1999         The Matrix         8.7",
      "text/html": "<div>\n<style scoped>\n    .dataframe tbody tr th:only-of-type {\n        vertical-align: middle;\n    }\n\n    .dataframe tbody tr th {\n        vertical-align: top;\n    }\n\n    .dataframe thead th {\n        text-align: right;\n    }\n</style>\n<table border=\"1\" class=\"dataframe\">\n  <thead>\n    <tr style=\"text-align: right;\">\n      <th></th>\n      <th>year</th>\n      <th>Movie</th>\n      <th>imdb_rating</th>\n    </tr>\n  </thead>\n  <tbody>\n    <tr>\n      <th>0</th>\n      <td>2001</td>\n      <td>Lord of the Rings</td>\n      <td>8.8</td>\n    </tr>\n    <tr>\n      <th>1</th>\n      <td>2010</td>\n      <td>Inception</td>\n      <td>8.7</td>\n    </tr>\n    <tr>\n      <th>2</th>\n      <td>1999</td>\n      <td>The Matrix</td>\n      <td>8.7</td>\n    </tr>\n  </tbody>\n</table>\n</div>"
     },
     "execution_count": 3,
     "metadata": {},
     "output_type": "execute_result"
    }
   ],
   "source": [
    "data1"
   ],
   "metadata": {
    "collapsed": false,
    "pycharm": {
     "name": "#%%\n"
    }
   }
  },
  {
   "cell_type": "code",
   "execution_count": 4,
   "outputs": [
    {
     "data": {
      "text/plain": "                     title produced popularity\n0            The Godfather     1972        9.2\n1  Silver Linings Playbook     2012        7.8\n2            The Big Short     2015        7.8",
      "text/html": "<div>\n<style scoped>\n    .dataframe tbody tr th:only-of-type {\n        vertical-align: middle;\n    }\n\n    .dataframe tbody tr th {\n        vertical-align: top;\n    }\n\n    .dataframe thead th {\n        text-align: right;\n    }\n</style>\n<table border=\"1\" class=\"dataframe\">\n  <thead>\n    <tr style=\"text-align: right;\">\n      <th></th>\n      <th>title</th>\n      <th>produced</th>\n      <th>popularity</th>\n    </tr>\n  </thead>\n  <tbody>\n    <tr>\n      <th>0</th>\n      <td>The Godfather</td>\n      <td>1972</td>\n      <td>9.2</td>\n    </tr>\n    <tr>\n      <th>1</th>\n      <td>Silver Linings Playbook</td>\n      <td>2012</td>\n      <td>7.8</td>\n    </tr>\n    <tr>\n      <th>2</th>\n      <td>The Big Short</td>\n      <td>2015</td>\n      <td>7.8</td>\n    </tr>\n  </tbody>\n</table>\n</div>"
     },
     "execution_count": 4,
     "metadata": {},
     "output_type": "execute_result"
    }
   ],
   "source": [
    "data2"
   ],
   "metadata": {
    "collapsed": false,
    "pycharm": {
     "name": "#%%\n"
    }
   }
  },
  {
   "cell_type": "code",
   "execution_count": 14,
   "outputs": [
    {
     "name": "stdout",
     "output_type": "stream",
     "text": [
      "<class 'pandas.core.frame.DataFrame'>\n",
      "RangeIndex: 3 entries, 0 to 2\n",
      "Data columns (total 3 columns):\n",
      " #   Column      Non-Null Count  Dtype \n",
      "---  ------      --------------  ----- \n",
      " 0   title       3 non-null      object\n",
      " 1   produced    3 non-null      object\n",
      " 2   popularity  3 non-null      object\n",
      "dtypes: object(3)\n",
      "memory usage: 200.0+ bytes\n"
     ]
    }
   ],
   "source": [
    "data2.info()"
   ],
   "metadata": {
    "collapsed": false,
    "pycharm": {
     "name": "#%%\n"
    }
   }
  },
  {
   "cell_type": "code",
   "execution_count": 6,
   "outputs": [
    {
     "name": "stdout",
     "output_type": "stream",
     "text": [
      "Create training data ...\n",
      "Training FlexMatcher ...\n",
      "Training Completed ...\n"
     ]
    }
   ],
   "source": [
    "schema_list = [data1, data2]\n",
    "mapping_list = [data1_mapping, data2_mapping]\n",
    "fm = flexmatcher.FlexMatcher(schema_list, mapping_list, sample_size=100)\n",
    "fm.train()"
   ],
   "metadata": {
    "collapsed": false,
    "pycharm": {
     "name": "#%%\n"
    }
   }
  },
  {
   "cell_type": "code",
   "execution_count": 18,
   "outputs": [
    {
     "name": "stderr",
     "output_type": "stream",
     "text": [
      "/Users/yaya/.virtualenvs/hebela/lib/python3.9/site-packages/sklearn/base.py:493: FutureWarning: The feature names should match those that were passed during fit. Starting version 1.2, an error will be raised.\n",
      "Feature names unseen at fit time:\n",
      "- classifier0movie_name\n",
      "- classifier0movie_rating\n",
      "- classifier0movie_year\n",
      "- classifier1movie_name\n",
      "- classifier1movie_rating\n",
      "- ...\n",
      "Feature names seen at fit time, yet now missing:\n",
      "- classifer0movie_name\n",
      "- classifer0movie_rating\n",
      "- classifer0movie_year\n",
      "- classifer1movie_name\n",
      "- classifer1movie_rating\n",
      "- ...\n",
      "\n",
      "  warnings.warn(message, FutureWarning)\n",
      "/Users/yaya/.virtualenvs/hebela/lib/python3.9/site-packages/sklearn/base.py:493: FutureWarning: The feature names should match those that were passed during fit. Starting version 1.2, an error will be raised.\n",
      "Feature names unseen at fit time:\n",
      "- classifier0movie_name\n",
      "- classifier0movie_rating\n",
      "- classifier0movie_year\n",
      "- classifier1movie_name\n",
      "- classifier1movie_rating\n",
      "- ...\n",
      "Feature names seen at fit time, yet now missing:\n",
      "- classifer0movie_name\n",
      "- classifer0movie_rating\n",
      "- classifer0movie_year\n",
      "- classifer1movie_name\n",
      "- classifer1movie_rating\n",
      "- ...\n",
      "\n",
      "  warnings.warn(message, FutureWarning)\n",
      "/Users/yaya/.virtualenvs/hebela/lib/python3.9/site-packages/sklearn/base.py:493: FutureWarning: The feature names should match those that were passed during fit. Starting version 1.2, an error will be raised.\n",
      "Feature names unseen at fit time:\n",
      "- classifier0movie_name\n",
      "- classifier0movie_rating\n",
      "- classifier0movie_year\n",
      "- classifier1movie_name\n",
      "- classifier1movie_rating\n",
      "- ...\n",
      "Feature names seen at fit time, yet now missing:\n",
      "- classifer0movie_name\n",
      "- classifer0movie_rating\n",
      "- classifer0movie_year\n",
      "- classifer1movie_name\n",
      "- classifer1movie_rating\n",
      "- ...\n",
      "\n",
      "  warnings.warn(message, FutureWarning)\n"
     ]
    }
   ],
   "source": [
    "predicted_mapping = fm.make_prediction(data3)"
   ],
   "metadata": {
    "collapsed": false,
    "pycharm": {
     "name": "#%%\n"
    }
   }
  },
  {
   "cell_type": "code",
   "execution_count": 8,
   "outputs": [
    {
     "data": {
      "text/plain": "{'rt': 'movie_rating', 'id': 'movie_name', 'yr': 'movie_year'}"
     },
     "execution_count": 8,
     "metadata": {},
     "output_type": "execute_result"
    }
   ],
   "source": [
    "predicted_mapping"
   ],
   "metadata": {
    "collapsed": false,
    "pycharm": {
     "name": "#%%\n"
    }
   }
  },
  {
   "cell_type": "markdown",
   "source": [
    "## Valentine"
   ],
   "metadata": {
    "collapsed": false,
    "pycharm": {
     "name": "#%% md\n"
    }
   }
  },
  {
   "cell_type": "code",
   "execution_count": 20,
   "outputs": [],
   "source": [
    "data1 = pd.read_csv(\"/Users/yaya/Downloads/Data-Integration/WebScrapy/Crawl_Data/oto.csv\")\n",
    "data2 = pd.read_csv(\"/Users/yaya/Downloads/Data-Integration/WebScrapy/Crawl_Data/anycar_bonbanh.csv\")"
   ],
   "metadata": {
    "collapsed": false,
    "pycharm": {
     "name": "#%%\n"
    }
   }
  },
  {
   "cell_type": "code",
   "execution_count": 21,
   "outputs": [
    {
     "data": {
      "text/plain": "                                     id      domain  \\\n0  acc62afb-acc4-42e6-9c76-1841afcbd9a2  oto.com.vn   \n1  95143243-094e-447c-b578-b0059a80ace8  oto.com.vn   \n2  980abf95-af00-4753-a5fd-73b06246869b  oto.com.vn   \n3  90a5e781-4217-45d8-b701-aa33a84e84a4  oto.com.vn   \n4  d5054e7d-853e-45d5-9bd8-61f5e6b530da  oto.com.vn   \n\n                                                 url  \\\n0  https://oto.com.vn/mua-ban-xe-mitsubishi-xpand...   \n1  https://oto.com.vn/mua-ban-xe-toyota-corolla-c...   \n2  https://oto.com.vn/mua-ban-xe-honda-city-hcm/k...   \n3  https://oto.com.vn/mua-ban-xe-vinfast-lux-a20-...   \n4  https://oto.com.vn/mua-ban-xe-ford-ranger-ha-n...   \n\n                 crawled_date                                             ten  \\\n0  2022-06-25 17:10:22.258599  Mitsubishi Xpander AT Premium 2022 - 648 triệu   \n1  2022-06-25 17:10:22.299600     Toyota Corolla Cross 1.8 G 2022 - 746 triệu   \n2  2022-06-25 17:10:22.309602                  Honda City RS 2022 - 599 triệu   \n3  2022-06-25 17:10:22.324603  VinFast LUX A2.0 Tiêu chuẩn 2022 - 881.7 triệu   \n4  2022-06-25 17:10:22.335598     Ford Ranger XLS 2.2 4x2 AT 2022 - 662 triệu   \n\n       gia_ban    gia_lan_banh  nam_san_xuat      kieu_dang tinh_trang  \\\n0    648 triệu     748.5 triệu          2022            MPV        Mới   \n1    746 triệu     857.9 triệu          2022            SUV        Mới   \n2    599 triệu     681.2 triệu          2022          Sedan        Mới   \n3  881.7 triệu  1 tỉ 010 triệu          2022          Sedan        Mới   \n4    662 triệu     712.8 triệu          2022  Pick-up Truck        Mới   \n\n      xuat_xu tinh_thanh   quan_huyen      hop_so nhien_lieu  \n0   Nhập khẩu     Hà Nội      Hà Đông  Số tự động       Xăng  \n1   Nhập khẩu     Hà Nội          NaN  Số tự động       Xăng  \n2  Trong nước     Tp.HCM     Tân Bình  Số tự động       Xăng  \n3  Trong nước     Hà Nội  Nam Từ Liêm  Số tự động       Xăng  \n4   Nhập khẩu     Hà Nội  Bắc Từ Liêm  Số tự động     Diesel  ",
      "text/html": "<div>\n<style scoped>\n    .dataframe tbody tr th:only-of-type {\n        vertical-align: middle;\n    }\n\n    .dataframe tbody tr th {\n        vertical-align: top;\n    }\n\n    .dataframe thead th {\n        text-align: right;\n    }\n</style>\n<table border=\"1\" class=\"dataframe\">\n  <thead>\n    <tr style=\"text-align: right;\">\n      <th></th>\n      <th>id</th>\n      <th>domain</th>\n      <th>url</th>\n      <th>crawled_date</th>\n      <th>ten</th>\n      <th>gia_ban</th>\n      <th>gia_lan_banh</th>\n      <th>nam_san_xuat</th>\n      <th>kieu_dang</th>\n      <th>tinh_trang</th>\n      <th>xuat_xu</th>\n      <th>tinh_thanh</th>\n      <th>quan_huyen</th>\n      <th>hop_so</th>\n      <th>nhien_lieu</th>\n    </tr>\n  </thead>\n  <tbody>\n    <tr>\n      <th>0</th>\n      <td>acc62afb-acc4-42e6-9c76-1841afcbd9a2</td>\n      <td>oto.com.vn</td>\n      <td>https://oto.com.vn/mua-ban-xe-mitsubishi-xpand...</td>\n      <td>2022-06-25 17:10:22.258599</td>\n      <td>Mitsubishi Xpander AT Premium 2022 - 648 triệu</td>\n      <td>648 triệu</td>\n      <td>748.5 triệu</td>\n      <td>2022</td>\n      <td>MPV</td>\n      <td>Mới</td>\n      <td>Nhập khẩu</td>\n      <td>Hà Nội</td>\n      <td>Hà Đông</td>\n      <td>Số tự động</td>\n      <td>Xăng</td>\n    </tr>\n    <tr>\n      <th>1</th>\n      <td>95143243-094e-447c-b578-b0059a80ace8</td>\n      <td>oto.com.vn</td>\n      <td>https://oto.com.vn/mua-ban-xe-toyota-corolla-c...</td>\n      <td>2022-06-25 17:10:22.299600</td>\n      <td>Toyota Corolla Cross 1.8 G 2022 - 746 triệu</td>\n      <td>746 triệu</td>\n      <td>857.9 triệu</td>\n      <td>2022</td>\n      <td>SUV</td>\n      <td>Mới</td>\n      <td>Nhập khẩu</td>\n      <td>Hà Nội</td>\n      <td>NaN</td>\n      <td>Số tự động</td>\n      <td>Xăng</td>\n    </tr>\n    <tr>\n      <th>2</th>\n      <td>980abf95-af00-4753-a5fd-73b06246869b</td>\n      <td>oto.com.vn</td>\n      <td>https://oto.com.vn/mua-ban-xe-honda-city-hcm/k...</td>\n      <td>2022-06-25 17:10:22.309602</td>\n      <td>Honda City RS 2022 - 599 triệu</td>\n      <td>599 triệu</td>\n      <td>681.2 triệu</td>\n      <td>2022</td>\n      <td>Sedan</td>\n      <td>Mới</td>\n      <td>Trong nước</td>\n      <td>Tp.HCM</td>\n      <td>Tân Bình</td>\n      <td>Số tự động</td>\n      <td>Xăng</td>\n    </tr>\n    <tr>\n      <th>3</th>\n      <td>90a5e781-4217-45d8-b701-aa33a84e84a4</td>\n      <td>oto.com.vn</td>\n      <td>https://oto.com.vn/mua-ban-xe-vinfast-lux-a20-...</td>\n      <td>2022-06-25 17:10:22.324603</td>\n      <td>VinFast LUX A2.0 Tiêu chuẩn 2022 - 881.7 triệu</td>\n      <td>881.7 triệu</td>\n      <td>1 tỉ 010 triệu</td>\n      <td>2022</td>\n      <td>Sedan</td>\n      <td>Mới</td>\n      <td>Trong nước</td>\n      <td>Hà Nội</td>\n      <td>Nam Từ Liêm</td>\n      <td>Số tự động</td>\n      <td>Xăng</td>\n    </tr>\n    <tr>\n      <th>4</th>\n      <td>d5054e7d-853e-45d5-9bd8-61f5e6b530da</td>\n      <td>oto.com.vn</td>\n      <td>https://oto.com.vn/mua-ban-xe-ford-ranger-ha-n...</td>\n      <td>2022-06-25 17:10:22.335598</td>\n      <td>Ford Ranger XLS 2.2 4x2 AT 2022 - 662 triệu</td>\n      <td>662 triệu</td>\n      <td>712.8 triệu</td>\n      <td>2022</td>\n      <td>Pick-up Truck</td>\n      <td>Mới</td>\n      <td>Nhập khẩu</td>\n      <td>Hà Nội</td>\n      <td>Bắc Từ Liêm</td>\n      <td>Số tự động</td>\n      <td>Diesel</td>\n    </tr>\n  </tbody>\n</table>\n</div>"
     },
     "execution_count": 21,
     "metadata": {},
     "output_type": "execute_result"
    }
   ],
   "source": [
    "data1.head(5)"
   ],
   "metadata": {
    "collapsed": false,
    "pycharm": {
     "name": "#%%\n"
    }
   }
  },
  {
   "cell_type": "code",
   "execution_count": 23,
   "outputs": [],
   "source": [
    "data2.drop(columns=['he_thong_nap_nhien_lieu', 'tieu_thu_nhien_lieu'], inplace=True)"
   ],
   "metadata": {
    "collapsed": false,
    "pycharm": {
     "name": "#%%\n"
    }
   }
  },
  {
   "cell_type": "code",
   "execution_count": 24,
   "outputs": [
    {
     "data": {
      "text/plain": "                                     id              domain  \\\n0  ded125d8-92c4-450c-b6b9-72423dd4e586  anycar.bonbanh.com   \n1  bfe4eb89-b6c1-4787-a943-1f55c82644a1  anycar.bonbanh.com   \n2  03b531a7-2bea-4a77-a04c-6b5ec82d0fed  anycar.bonbanh.com   \n3  d58e62be-03e6-4b94-96fd-23e99f1a1ac8  anycar.bonbanh.com   \n4  bb35ab9b-7dc5-4969-8d21-0958e6767a47  anycar.bonbanh.com   \n\n                                                 url  \\\n0  https://anycar.bonbanh.com/chi-tiet-xe/id,4280...   \n1  https://anycar.bonbanh.com/chi-tiet-xe/id,4248...   \n2  https://anycar.bonbanh.com/chi-tiet-xe/id,4434...   \n3  https://anycar.bonbanh.com/chi-tiet-xe/id,4428...   \n4  https://anycar.bonbanh.com/chi-tiet-xe/id,4223...   \n\n                 crawled_date                            ten    gia_ban  \\\n0  2022-06-26 16:25:04.460613    Xe Mazda 3 1.5L Luxury 2020  676 Triệu   \n1  2022-06-26 16:25:04.492612         Xe Mazda 2 Luxury 2019  505 Triệu   \n2  2022-06-26 16:25:04.555614   Xe Toyota Vios 1.5E CVT 2018  446 Triệu   \n3  2022-06-26 16:25:04.566613  Xe Honda Civic RS 1.5 AT 2019  735 Triệu   \n4  2022-06-26 16:25:04.585614          Xe Kia Rondo DAT 2016  500 Triệu   \n\n              xuat_xu  tinh_trang dong_xe so_km_da_di mau_ngoai_that  \\\n0  Lắp ráp trong nước  Xe đã dùng   Sedan    31445 Km          Trắng   \n1           Nhập khẩu  Xe đã dùng   Sedan    36000 Km          Trắng   \n2  Lắp ráp trong nước  Xe đã dùng   Sedan    52560 Km          Trắng   \n3           Nhập khẩu  Xe đã dùng   Sedan    28580 Km          Trắng   \n4  Lắp ráp trong nước  Xe đã dùng     SUV    60465 Km          Trắng   \n\n  mau_noi_that so_cua so_cho_ngoi nhien_lieu      hop_so  \\\n0          Đen  4 cửa       5 chỗ       Xăng  Số tự động   \n1          Đen  4 cửa       5 chỗ       Xăng  Số tự động   \n2          Kem  4 cửa       5 chỗ       Xăng  Số tự động   \n3          Đen  4 cửa       5 chỗ       Xăng  Số tự động   \n4          Đen  5 cửa       7 chỗ     Diesel  Số tự động   \n\n                   dan_dong dung_tich_xi_lanh_  \n0  FWD - Dẫn động cầu trước          1496 (cc)  \n1  FWD - Dẫn động cầu trước          1496 (cc)  \n2  FWD - Dẫn động cầu trước          1496 (cc)  \n3  FWD - Dẫn động cầu trước          1498 (cc)  \n4  FWD - Dẫn động cầu trước          1685 (cc)  ",
      "text/html": "<div>\n<style scoped>\n    .dataframe tbody tr th:only-of-type {\n        vertical-align: middle;\n    }\n\n    .dataframe tbody tr th {\n        vertical-align: top;\n    }\n\n    .dataframe thead th {\n        text-align: right;\n    }\n</style>\n<table border=\"1\" class=\"dataframe\">\n  <thead>\n    <tr style=\"text-align: right;\">\n      <th></th>\n      <th>id</th>\n      <th>domain</th>\n      <th>url</th>\n      <th>crawled_date</th>\n      <th>ten</th>\n      <th>gia_ban</th>\n      <th>xuat_xu</th>\n      <th>tinh_trang</th>\n      <th>dong_xe</th>\n      <th>so_km_da_di</th>\n      <th>mau_ngoai_that</th>\n      <th>mau_noi_that</th>\n      <th>so_cua</th>\n      <th>so_cho_ngoi</th>\n      <th>nhien_lieu</th>\n      <th>hop_so</th>\n      <th>dan_dong</th>\n      <th>dung_tich_xi_lanh_</th>\n    </tr>\n  </thead>\n  <tbody>\n    <tr>\n      <th>0</th>\n      <td>ded125d8-92c4-450c-b6b9-72423dd4e586</td>\n      <td>anycar.bonbanh.com</td>\n      <td>https://anycar.bonbanh.com/chi-tiet-xe/id,4280...</td>\n      <td>2022-06-26 16:25:04.460613</td>\n      <td>Xe Mazda 3 1.5L Luxury 2020</td>\n      <td>676 Triệu</td>\n      <td>Lắp ráp trong nước</td>\n      <td>Xe đã dùng</td>\n      <td>Sedan</td>\n      <td>31445 Km</td>\n      <td>Trắng</td>\n      <td>Đen</td>\n      <td>4 cửa</td>\n      <td>5 chỗ</td>\n      <td>Xăng</td>\n      <td>Số tự động</td>\n      <td>FWD - Dẫn động cầu trước</td>\n      <td>1496 (cc)</td>\n    </tr>\n    <tr>\n      <th>1</th>\n      <td>bfe4eb89-b6c1-4787-a943-1f55c82644a1</td>\n      <td>anycar.bonbanh.com</td>\n      <td>https://anycar.bonbanh.com/chi-tiet-xe/id,4248...</td>\n      <td>2022-06-26 16:25:04.492612</td>\n      <td>Xe Mazda 2 Luxury 2019</td>\n      <td>505 Triệu</td>\n      <td>Nhập khẩu</td>\n      <td>Xe đã dùng</td>\n      <td>Sedan</td>\n      <td>36000 Km</td>\n      <td>Trắng</td>\n      <td>Đen</td>\n      <td>4 cửa</td>\n      <td>5 chỗ</td>\n      <td>Xăng</td>\n      <td>Số tự động</td>\n      <td>FWD - Dẫn động cầu trước</td>\n      <td>1496 (cc)</td>\n    </tr>\n    <tr>\n      <th>2</th>\n      <td>03b531a7-2bea-4a77-a04c-6b5ec82d0fed</td>\n      <td>anycar.bonbanh.com</td>\n      <td>https://anycar.bonbanh.com/chi-tiet-xe/id,4434...</td>\n      <td>2022-06-26 16:25:04.555614</td>\n      <td>Xe Toyota Vios 1.5E CVT 2018</td>\n      <td>446 Triệu</td>\n      <td>Lắp ráp trong nước</td>\n      <td>Xe đã dùng</td>\n      <td>Sedan</td>\n      <td>52560 Km</td>\n      <td>Trắng</td>\n      <td>Kem</td>\n      <td>4 cửa</td>\n      <td>5 chỗ</td>\n      <td>Xăng</td>\n      <td>Số tự động</td>\n      <td>FWD - Dẫn động cầu trước</td>\n      <td>1496 (cc)</td>\n    </tr>\n    <tr>\n      <th>3</th>\n      <td>d58e62be-03e6-4b94-96fd-23e99f1a1ac8</td>\n      <td>anycar.bonbanh.com</td>\n      <td>https://anycar.bonbanh.com/chi-tiet-xe/id,4428...</td>\n      <td>2022-06-26 16:25:04.566613</td>\n      <td>Xe Honda Civic RS 1.5 AT 2019</td>\n      <td>735 Triệu</td>\n      <td>Nhập khẩu</td>\n      <td>Xe đã dùng</td>\n      <td>Sedan</td>\n      <td>28580 Km</td>\n      <td>Trắng</td>\n      <td>Đen</td>\n      <td>4 cửa</td>\n      <td>5 chỗ</td>\n      <td>Xăng</td>\n      <td>Số tự động</td>\n      <td>FWD - Dẫn động cầu trước</td>\n      <td>1498 (cc)</td>\n    </tr>\n    <tr>\n      <th>4</th>\n      <td>bb35ab9b-7dc5-4969-8d21-0958e6767a47</td>\n      <td>anycar.bonbanh.com</td>\n      <td>https://anycar.bonbanh.com/chi-tiet-xe/id,4223...</td>\n      <td>2022-06-26 16:25:04.585614</td>\n      <td>Xe Kia Rondo DAT 2016</td>\n      <td>500 Triệu</td>\n      <td>Lắp ráp trong nước</td>\n      <td>Xe đã dùng</td>\n      <td>SUV</td>\n      <td>60465 Km</td>\n      <td>Trắng</td>\n      <td>Đen</td>\n      <td>5 cửa</td>\n      <td>7 chỗ</td>\n      <td>Diesel</td>\n      <td>Số tự động</td>\n      <td>FWD - Dẫn động cầu trước</td>\n      <td>1685 (cc)</td>\n    </tr>\n  </tbody>\n</table>\n</div>"
     },
     "execution_count": 24,
     "metadata": {},
     "output_type": "execute_result"
    }
   ],
   "source": [
    "data2.head()"
   ],
   "metadata": {
    "collapsed": false,
    "pycharm": {
     "name": "#%%\n"
    }
   }
  },
  {
   "cell_type": "code",
   "execution_count": 36,
   "outputs": [],
   "source": [
    "from valentine import valentine_match\n",
    "from valentine.algorithms import Coma, Cupid, DistributionBased, JaccardLevenMatcher, SimilarityFlooding"
   ],
   "metadata": {
    "collapsed": false,
    "pycharm": {
     "name": "#%%\n"
    }
   }
  },
  {
   "cell_type": "code",
   "execution_count": 34,
   "outputs": [],
   "source": [
    "matcher = Coma(strategy=\"COMA_OPT\")\n",
    "matches = valentine_match(data1, data2, matcher, 'oto', 'anycar_bonbanh')"
   ],
   "metadata": {
    "collapsed": false,
    "pycharm": {
     "name": "#%%\n"
    }
   }
  },
  {
   "cell_type": "code",
   "execution_count": 35,
   "outputs": [
    {
     "data": {
      "text/plain": "{(('oto', 'crawled_date'), ('anycar_bonbanh', 'crawled_date')): 0.81506306,\n (('oto', 'tinh_trang'), ('anycar_bonbanh', 'tinh_trang')): 0.8046722,\n (('oto', 'nhien_lieu'), ('anycar_bonbanh', 'nhien_lieu')): 0.8046722,\n (('oto', 'gia_ban'), ('anycar_bonbanh', 'gia_ban')): 0.7910509,\n (('oto', 'xuat_xu'), ('anycar_bonbanh', 'xuat_xu')): 0.7848733,\n (('oto', 'hop_so'), ('anycar_bonbanh', 'hop_so')): 0.77970636,\n (('oto', 'domain'), ('anycar_bonbanh', 'domain')): 0.7767652,\n (('oto', 'url'), ('anycar_bonbanh', 'url')): 0.74573076,\n (('oto', 'ten'), ('anycar_bonbanh', 'ten')): 0.74573076,\n (('oto', 'id'), ('anycar_bonbanh', 'id')): 0.7323208,\n (('oto', 'kieu_dang'), ('anycar_bonbanh', 'dan_dong')): 0.35712236}"
     },
     "execution_count": 35,
     "metadata": {},
     "output_type": "execute_result"
    }
   ],
   "source": [
    "# Ta có thể thấy, phương pháp này không phát hiệm được \"kieu_dang\" và \"dong_xe\" matching với nhau.\n",
    "matches"
   ],
   "metadata": {
    "collapsed": false,
    "pycharm": {
     "name": "#%%\n"
    }
   }
  },
  {
   "cell_type": "code",
   "execution_count": 41,
   "outputs": [],
   "source": [
    "# import nltk\n",
    "# nltk.download('stopwords')\n",
    "# nltk.download('omw-1.4')\n",
    "\n",
    "matcher = Cupid()\n",
    "matches = valentine_match(data1, data2, matcher, 'oto', 'anycar_bonbanh')"
   ],
   "metadata": {
    "collapsed": false,
    "pycharm": {
     "name": "#%%\n"
    }
   }
  },
  {
   "cell_type": "code",
   "execution_count": 42,
   "outputs": [
    {
     "data": {
      "text/plain": "{(('oto', 'id'), ('anycar_bonbanh', 'id')): 1.0,\n (('oto', 'domain'), ('anycar_bonbanh', 'domain')): 1.0,\n (('oto', 'url'), ('anycar_bonbanh', 'url')): 1.0,\n (('oto', 'crawled_date'), ('anycar_bonbanh', 'crawled_date')): 1.0,\n (('oto', 'ten'), ('anycar_bonbanh', 'ten')): 1.0,\n (('oto', 'gia_ban'), ('anycar_bonbanh', 'gia_ban')): 1.0,\n (('oto', 'tinh_trang'), ('anycar_bonbanh', 'tinh_trang')): 1.0,\n (('oto', 'xuat_xu'), ('anycar_bonbanh', 'xuat_xu')): 1.0,\n (('oto', 'hop_so'), ('anycar_bonbanh', 'hop_so')): 1.0,\n (('oto', 'nhien_lieu'), ('anycar_bonbanh', 'nhien_lieu')): 1.0,\n (('oto', 'tinh_thanh'), ('anycar_bonbanh', 'tinh_trang')): 0.8533333333333333,\n (('oto', 'gia_lan_banh'), ('anycar_bonbanh', 'gia_ban')): 0.8156190476190477,\n (('oto', 'id'), ('anycar_bonbanh', 'domain')): 0.7,\n (('oto', 'domain'), ('anycar_bonbanh', 'id')): 0.7,\n (('oto', 'gia_ban'), ('anycar_bonbanh', 'dan_dong')): 0.7}"
     },
     "execution_count": 42,
     "metadata": {},
     "output_type": "execute_result"
    }
   ],
   "source": [
    "# Ta có thể thấy, phương pháp này không phát hiệm được \"kieu_dang\" và \"dong_xe\" matching với nhau.\n",
    "matches"
   ],
   "metadata": {
    "collapsed": false,
    "pycharm": {
     "name": "#%%\n"
    }
   }
  },
  {
   "cell_type": "code",
   "execution_count": 44,
   "outputs": [
    {
     "name": "stderr",
     "output_type": "stream",
     "text": [
      "/Users/yaya/.virtualenvs/hebela/lib/python3.9/site-packages/numpy/core/_methods.py:44: RuntimeWarning: invalid value encountered in reduce\n",
      "  return umr_minimum(a, axis, None, out, keepdims, initial, where)\n"
     ]
    }
   ],
   "source": [
    "matcher = DistributionBased()\n",
    "matches = valentine_match(data1, data2, matcher, 'oto', 'anycar_bonbanh')"
   ],
   "metadata": {
    "collapsed": false,
    "pycharm": {
     "name": "#%%\n"
    }
   }
  },
  {
   "cell_type": "code",
   "execution_count": 45,
   "outputs": [
    {
     "data": {
      "text/plain": "{(('oto', 'hop_so'), ('anycar_bonbanh', 'hop_so')): 0.9672788744207454,\n (('oto', 'kieu_dang'), ('anycar_bonbanh', 'dong_xe')): 0.9357083890546022,\n (('oto', 'nhien_lieu'), ('anycar_bonbanh', 'nhien_lieu')): 0.9322022907368283}"
     },
     "execution_count": 45,
     "metadata": {},
     "output_type": "execute_result"
    }
   ],
   "source": [
    "# Ta có thể thấy, phương pháp này phát hiệm được \"kieu_dang\" và \"dong_xe\" matching với nhau.\n",
    "matches"
   ],
   "metadata": {
    "collapsed": false,
    "pycharm": {
     "name": "#%%\n"
    }
   }
  },
  {
   "cell_type": "code",
   "execution_count": 46,
   "outputs": [],
   "source": [
    "matcher = JaccardLevenMatcher()\n",
    "matches = valentine_match(data1, data2, matcher, 'oto', 'anycar_bonbanh')"
   ],
   "metadata": {
    "collapsed": false,
    "pycharm": {
     "name": "#%%\n"
    }
   }
  },
  {
   "cell_type": "code",
   "execution_count": 47,
   "outputs": [
    {
     "data": {
      "text/plain": "{(('oto', 'hop_so'), ('anycar_bonbanh', 'hop_so')): 0.6666666666666666,\n (('oto', 'nhien_lieu'), ('anycar_bonbanh', 'nhien_lieu')): 0.6666666666666666,\n (('oto', 'kieu_dang'), ('anycar_bonbanh', 'dong_xe')): 0.36363636363636365,\n (('oto', 'xuat_xu'), ('anycar_bonbanh', 'xuat_xu')): 0.3333333333333333,\n (('oto', 'gia_lan_banh'),\n  ('anycar_bonbanh', 'gia_ban')): 0.046511627906976744,\n (('oto', 'gia_ban'), ('anycar_bonbanh', 'gia_ban')): 0.04}"
     },
     "execution_count": 47,
     "metadata": {},
     "output_type": "execute_result"
    }
   ],
   "source": [
    "matches"
   ],
   "metadata": {
    "collapsed": false,
    "pycharm": {
     "name": "#%%\n"
    }
   }
  },
  {
   "cell_type": "code",
   "execution_count": 48,
   "outputs": [],
   "source": [
    "matcher = SimilarityFlooding()\n",
    "matches = valentine_match(data1, data2, matcher, 'oto', 'anycar_bonbanh')"
   ],
   "metadata": {
    "collapsed": false,
    "pycharm": {
     "name": "#%%\n"
    }
   }
  },
  {
   "cell_type": "code",
   "execution_count": 58,
   "outputs": [
    {
     "name": "stdout",
     "output_type": "stream",
     "text": [
      "(('oto', 'crawled_date'), ('anycar_bonbanh', 'crawled_date'))\n",
      "(('oto', 'id'), ('anycar_bonbanh', 'id'))\n",
      "(('oto', 'domain'), ('anycar_bonbanh', 'domain'))\n",
      "(('oto', 'url'), ('anycar_bonbanh', 'url'))\n",
      "(('oto', 'ten'), ('anycar_bonbanh', 'ten'))\n",
      "(('oto', 'gia_ban'), ('anycar_bonbanh', 'gia_ban'))\n",
      "(('oto', 'tinh_trang'), ('anycar_bonbanh', 'tinh_trang'))\n",
      "(('oto', 'xuat_xu'), ('anycar_bonbanh', 'xuat_xu'))\n",
      "(('oto', 'hop_so'), ('anycar_bonbanh', 'hop_so'))\n",
      "(('oto', 'nhien_lieu'), ('anycar_bonbanh', 'nhien_lieu'))\n",
      "(('oto', 'tinh_thanh'), ('anycar_bonbanh', 'tinh_trang'))\n",
      "(('oto', 'gia_lan_banh'), ('anycar_bonbanh', 'gia_ban'))\n"
     ]
    }
   ],
   "source": [
    "for key, value in matches.items():\n",
    "    # print(value)\n",
    "    if value > 0.1:\n",
    "        print(key)"
   ],
   "metadata": {
    "collapsed": false,
    "pycharm": {
     "name": "#%%\n"
    }
   }
  },
  {
   "cell_type": "code",
   "execution_count": 1,
   "outputs": [],
   "source": [
    "import pandas as pd"
   ],
   "metadata": {
    "collapsed": false,
    "pycharm": {
     "name": "#%%\n"
    }
   }
  },
  {
   "cell_type": "code",
   "execution_count": 2,
   "outputs": [],
   "source": [
    "oto_data = pd.read_csv('/Users/yaya/Downloads/Data-Integration/WebScrapy/oto.csv')"
   ],
   "metadata": {
    "collapsed": false,
    "pycharm": {
     "name": "#%%\n"
    }
   }
  },
  {
   "cell_type": "code",
   "execution_count": 18,
   "outputs": [
    {
     "data": {
      "text/plain": "['Sedan',\n 'MPV',\n 'SUV',\n 'Pick-up Truck',\n nan,\n 'Hatchback',\n 'Van/Minivan',\n 'Truck',\n 'Sport Car',\n 'Coupe',\n 'CUV',\n 'Convertible',\n 'Special Purpose',\n 'City Car']"
     },
     "execution_count": 18,
     "metadata": {},
     "output_type": "execute_result"
    }
   ],
   "source": [
    "oto_data.kieu_dang.unique().tolist()"
   ],
   "metadata": {
    "collapsed": false,
    "pycharm": {
     "name": "#%%\n"
    }
   }
  },
  {
   "cell_type": "code",
   "execution_count": 22,
   "outputs": [
    {
     "data": {
      "text/plain": "                                       id      domain  \\\n623  03df030a-fd30-41fc-af55-a0d4a054d27e  oto.com.vn   \n\n                                                   url  \\\n623  https://oto.com.vn/mua-ban-xe-fiat-500-ha-noi/...   \n\n                   crawled_date                        ten    gia_ban  \\\n623  2022-06-29 09:20:49.009892  Fiat 500 2009 - 430 triệu  430 triệu   \n\n    gia_lan_banh  nam_san_xuat kieu_dang      tinh_trang    xuat_xu  \\\n623  458.6 triệu          2009  City Car  Đã qua sử dụng  Nhập khẩu   \n\n    tinh_thanh      hop_so nhien_lieu  \\\n623     Hà Nội  Số tự động       Xăng   \n\n                                                 mo_ta  \n623  Xe đồ chơi. Đi cafe thì đúng hết bài. ...  ",
      "text/html": "<div>\n<style scoped>\n    .dataframe tbody tr th:only-of-type {\n        vertical-align: middle;\n    }\n\n    .dataframe tbody tr th {\n        vertical-align: top;\n    }\n\n    .dataframe thead th {\n        text-align: right;\n    }\n</style>\n<table border=\"1\" class=\"dataframe\">\n  <thead>\n    <tr style=\"text-align: right;\">\n      <th></th>\n      <th>id</th>\n      <th>domain</th>\n      <th>url</th>\n      <th>crawled_date</th>\n      <th>ten</th>\n      <th>gia_ban</th>\n      <th>gia_lan_banh</th>\n      <th>nam_san_xuat</th>\n      <th>kieu_dang</th>\n      <th>tinh_trang</th>\n      <th>xuat_xu</th>\n      <th>tinh_thanh</th>\n      <th>hop_so</th>\n      <th>nhien_lieu</th>\n      <th>mo_ta</th>\n    </tr>\n  </thead>\n  <tbody>\n    <tr>\n      <th>623</th>\n      <td>03df030a-fd30-41fc-af55-a0d4a054d27e</td>\n      <td>oto.com.vn</td>\n      <td>https://oto.com.vn/mua-ban-xe-fiat-500-ha-noi/...</td>\n      <td>2022-06-29 09:20:49.009892</td>\n      <td>Fiat 500 2009 - 430 triệu</td>\n      <td>430 triệu</td>\n      <td>458.6 triệu</td>\n      <td>2009</td>\n      <td>City Car</td>\n      <td>Đã qua sử dụng</td>\n      <td>Nhập khẩu</td>\n      <td>Hà Nội</td>\n      <td>Số tự động</td>\n      <td>Xăng</td>\n      <td>Xe đồ chơi. Đi cafe thì đúng hết bài. ...</td>\n    </tr>\n  </tbody>\n</table>\n</div>"
     },
     "execution_count": 22,
     "metadata": {},
     "output_type": "execute_result"
    }
   ],
   "source": [
    "import numpy as np\n",
    "oto_data[oto_data.kieu_dang == 'City Car']"
   ],
   "metadata": {
    "collapsed": false,
    "pycharm": {
     "name": "#%%\n"
    }
   }
  },
  {
   "cell_type": "code",
   "execution_count": 15,
   "outputs": [
    {
     "data": {
      "text/plain": "float"
     },
     "execution_count": 15,
     "metadata": {},
     "output_type": "execute_result"
    }
   ],
   "source": [
    "https://oto.com.vn/mua-ban-xe-fiat-500-ha-noi/xe-gia-dinh-gia-430tr-aidxc22438383"
   ],
   "metadata": {
    "collapsed": false,
    "pycharm": {
     "name": "#%%\n"
    }
   }
  },
  {
   "cell_type": "code",
   "execution_count": null,
   "outputs": [],
   "source": [],
   "metadata": {
    "collapsed": false,
    "pycharm": {
     "name": "#%%\n"
    }
   }
  }
 ],
 "metadata": {
  "kernelspec": {
   "display_name": "Python 3",
   "language": "python",
   "name": "python3"
  },
  "language_info": {
   "codemirror_mode": {
    "name": "ipython",
    "version": 2
   },
   "file_extension": ".py",
   "mimetype": "text/x-python",
   "name": "python",
   "nbconvert_exporter": "python",
   "pygments_lexer": "ipython2",
   "version": "2.7.6"
  }
 },
 "nbformat": 4,
 "nbformat_minor": 0
}