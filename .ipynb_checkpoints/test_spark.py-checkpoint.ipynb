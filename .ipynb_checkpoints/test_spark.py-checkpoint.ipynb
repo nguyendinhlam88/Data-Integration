{
 "cells": [
  {
   "cell_type": "code",
   "execution_count": null,
   "id": "3e76b9cc",
   "metadata": {},
   "outputs": [],
   "source": [
    "# Có thể đọc dữ liệu trực tiếp từ kafka để thực hiện\n",
    "# ETL và store vào rdms như mysql hay vào mongodb\n",
    "# Hoặc lưu vào hdfs cũng được. Rồi store vào mysql sau hoặc có thể không"
   ]
  }
 ],
 "metadata": {
  "kernelspec": {
   "display_name": "Python 3",
   "language": "python",
   "name": "python3"
  },
  "language_info": {
   "codemirror_mode": {
    "name": "ipython",
    "version": 3
   },
   "file_extension": ".py",
   "mimetype": "text/x-python",
   "name": "python",
   "nbconvert_exporter": "python",
   "pygments_lexer": "ipython3",
   "version": "3.9.4"
  }
 },
 "nbformat": 4,
 "nbformat_minor": 5
}
