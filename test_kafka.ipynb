{
 "cells": [
  {
   "cell_type": "code",
   "execution_count": 3,
   "id": "4f01c219",
   "metadata": {},
   "outputs": [
    {
     "name": "stdout",
     "output_type": "stream",
     "text": [
      "Collecting confluent_kafka\n",
      "  Using cached confluent_kafka-1.8.2-cp39-cp39-macosx_10_9_x86_64.whl (2.5 MB)\n",
      "Installing collected packages: confluent-kafka\n",
      "Successfully installed confluent-kafka-1.8.2\n",
      "\u001B[33mWARNING: You are using pip version 21.3.1; however, version 22.1.1 is available.\n",
      "You should consider upgrading via the '/usr/local/bin/python3 -m pip install --upgrade pip' command.\u001B[0m\n"
     ]
    }
   ],
   "source": [
    "!python3 -m pip install confluent_kafka"
   ]
  },
  {
   "cell_type": "code",
   "execution_count": 16,
   "id": "267e6799",
   "metadata": {},
   "outputs": [],
   "source": [
    "from confluent_kafka import Producer\n",
    "from confluent_kafka import Consumer\n",
    "import json"
   ]
  },
  {
   "cell_type": "code",
   "execution_count": 5,
   "id": "41e1019e",
   "metadata": {},
   "outputs": [],
   "source": [
    "kafka_config = {'bootstrap.servers': '127.0.0.1:9092'}"
   ]
  },
  {
   "cell_type": "code",
   "execution_count": 7,
   "id": "b1e2c767",
   "metadata": {},
   "outputs": [],
   "source": [
    "producer = Producer(**kafka_config)"
   ]
  },
  {
   "cell_type": "code",
   "execution_count": 10,
   "id": "db172eb0",
   "metadata": {},
   "outputs": [
    {
     "data": {
      "text/plain": [
       "<cimpl.Producer at 0x7f9075ee8720>"
      ]
     },
     "execution_count": 10,
     "metadata": {},
     "output_type": "execute_result"
    }
   ],
   "source": [
    "producer"
   ]
  },
  {
   "cell_type": "code",
   "execution_count": 11,
   "id": "dcbc1ad8",
   "metadata": {},
   "outputs": [
    {
     "data": {
      "text/plain": [
       "0"
      ]
     },
     "execution_count": 11,
     "metadata": {},
     "output_type": "execute_result"
    }
   ],
   "source": [
    "producer.poll(0)"
   ]
  },
  {
   "cell_type": "code",
   "execution_count": 12,
   "id": "8944c746",
   "metadata": {},
   "outputs": [],
   "source": [
    "def delivery_report(err, msg):\n",
    "    \"\"\" Called once for each message produced to indicate delivery result.\n",
    "        Triggered by poll() or flush(). \"\"\"\n",
    "    if err is not None:\n",
    "        print('Message delivery failed: {}'.format(err))\n",
    "    else:\n",
    "        print('Message delivered to {} [{}]'.format(msg.topic(), msg.partition()))"
   ]
  },
  {
   "cell_type": "code",
   "execution_count": 24,
   "id": "88c53527",
   "metadata": {},
   "outputs": [],
   "source": [
    "# Bây giờ đã push messsage to kafka\n",
    "producer.produce(\"test_kafka\", json.dumps({\"name\": \"lamyaya88\", \"age\": 21, \"birthday\": \"26-10-2000\"}).encode(\"utf-8\"), callback=delivery_report)"
   ]
  },
  {
   "cell_type": "code",
   "execution_count": 25,
   "id": "a45994c6",
   "metadata": {},
   "outputs": [
    {
     "name": "stdout",
     "output_type": "stream",
     "text": [
      "Message delivered to test_kafka [0]\n"
     ]
    },
    {
     "data": {
      "text/plain": [
       "0"
      ]
     },
     "execution_count": 25,
     "metadata": {},
     "output_type": "execute_result"
    }
   ],
   "source": [
    "producer.flush()"
   ]
  },
  {
   "cell_type": "code",
   "execution_count": 18,
   "id": "22fdb53b",
   "metadata": {},
   "outputs": [],
   "source": [
    "c = Consumer({'bootstrap.servers': '127.0.0.1:9092',\n",
    "              'group.id': 'group11',\n",
    "              'auto.offset.reset': 'earliest'})"
   ]
  },
  {
   "cell_type": "code",
   "execution_count": 19,
   "id": "f4f0cc1b",
   "metadata": {},
   "outputs": [],
   "source": [
    "c.subscribe([\"test_kafka\"])"
   ]
  },
  {
   "cell_type": "code",
   "execution_count": 26,
   "id": "df1d7fdc",
   "metadata": {},
   "outputs": [],
   "source": [
    "y = c.poll(0).value().decode(\"utf-8\")"
   ]
  },
  {
   "cell_type": "code",
   "execution_count": 27,
   "id": "9d665343",
   "metadata": {},
   "outputs": [
    {
     "data": {
      "text/plain": [
       "'{\"name\": \"lamyaya88\", \"age\": 21, \"birthday\": \"26-10-2000\"}'"
      ]
     },
     "execution_count": 27,
     "metadata": {},
     "output_type": "execute_result"
    }
   ],
   "source": [
    "y"
   ]
  },
  {
   "cell_type": "code",
   "execution_count": 28,
   "id": "08dc32d1",
   "metadata": {},
   "outputs": [],
   "source": [
    "z = json.loads(y)"
   ]
  },
  {
   "cell_type": "code",
   "execution_count": 29,
   "id": "70d21f14",
   "metadata": {},
   "outputs": [
    {
     "data": {
      "text/plain": [
       "{'name': 'lamyaya88', 'age': 21, 'birthday': '26-10-2000'}"
      ]
     },
     "execution_count": 29,
     "metadata": {},
     "output_type": "execute_result"
    }
   ],
   "source": [
    "z"
   ]
  }
 ],
 "metadata": {
  "kernelspec": {
   "display_name": "Python 3",
   "language": "python",
   "name": "python3"
  },
  "language_info": {
   "codemirror_mode": {
    "name": "ipython",
    "version": 3
   },
   "file_extension": ".py",
   "mimetype": "text/x-python",
   "name": "python",
   "nbconvert_exporter": "python",
   "pygments_lexer": "ipython3",
   "version": "3.9.4"
  }
 },
 "nbformat": 4,
 "nbformat_minor": 5
}